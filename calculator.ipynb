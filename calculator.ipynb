{
  "nbformat": 4,
  "nbformat_minor": 0,
  "metadata": {
    "colab": {
      "provenance": []
    },
    "kernelspec": {
      "name": "python3",
      "display_name": "Python 3"
    },
    "language_info": {
      "name": "python"
    }
  },
  "cells": [
    {
      "cell_type": "code",
      "source": [
        "# Cell 1: Define the calculator functions\n",
        "\n",
        "import math\n",
        "\n",
        "def add(a, b):\n",
        "    \"\"\"Return the sum of a and b.\"\"\"\n",
        "    return a + b\n",
        "\n",
        "def subtract(a, b):\n",
        "    \"\"\"Return the result of subtracting b from a.\"\"\"\n",
        "    return a - b\n",
        "\n",
        "def multiply(a, b):\n",
        "    \"\"\"Return the product of a and b.\"\"\"\n",
        "    return a * b\n",
        "\n",
        "def divide(a, b):\n",
        "    \"\"\"Return the result of dividing a by b.\n",
        "\n",
        "    Returns a string message if the denominator is zero.\n",
        "    \"\"\"\n",
        "    if b == 0:\n",
        "        return \"Invalid value for denominator, can't divide by 0!\"\n",
        "    return a / b\n",
        "\n",
        "def square(a):\n",
        "    \"\"\"Return the square of a.\"\"\"\n",
        "    return a * a\n",
        "\n",
        "def power(a, b):\n",
        "    \"\"\"Return a raised to the power of b.\"\"\"\n",
        "    return a ** b\n",
        "\n",
        "def sqrt(a):\n",
        "    \"\"\"Return the square root of a.\n",
        "\n",
        "    Returns a string message if a is negative.\n",
        "    \"\"\"\n",
        "    if a < 0:\n",
        "        return \"Cannot compute the square root of a negative number!\"\n",
        "    return math.sqrt(a)\n"
      ],
      "metadata": {
        "id": "UAkn5og5rjIL"
      },
      "execution_count": 40,
      "outputs": []
    },
    {
      "cell_type": "code",
      "source": [
        "# Cell 2: Define the test functions\n",
        "\n",
        "import pytest\n",
        "\n",
        "def test_add():\n",
        "    from calculator import add\n",
        "    assert add(3, 4) == 7\n",
        "    assert add(-3, -4) == -7\n",
        "    assert add(-3, 4) == 1\n",
        "\n",
        "def test_subtract():\n",
        "    from calculator import subtract\n",
        "    assert subtract(10, 4) == 6\n",
        "    assert subtract(-10, -4) == -6\n",
        "    assert subtract(-10, 4) == -14\n",
        "\n",
        "def test_multiply():\n",
        "    from calculator import multiply\n",
        "    assert multiply(3, 4) == 12\n",
        "    assert multiply(-3, -4) == 12\n",
        "    assert multiply(-3, 4) == -12\n",
        "\n",
        "def test_divide():\n",
        "    from calculator import divide\n",
        "    assert divide(10, 2) == 5\n",
        "    assert divide(10, 0) == \"Invalid value for denominator, can't divide by 0!\"\n",
        "    assert divide(-10, -2) == 5\n",
        "    assert divide(-10, 2) == -5\n",
        "\n",
        "def test_square():\n",
        "    from calculator import square\n",
        "    assert square(4) == 16\n",
        "    assert square(-4) == 16\n",
        "    assert square(0) == 0\n",
        "\n",
        "def test_power():\n",
        "    from calculator import power\n",
        "    assert power(2, 3) == 8\n",
        "    assert power(-2, 3) == -8\n",
        "    assert power(5, 0) == 1\n",
        "\n",
        "def test_sqrt():\n",
        "    from calculator import sqrt\n",
        "    assert sqrt(9) == 3\n",
        "    assert sqrt(0) == 0\n",
        "    assert sqrt(-9) == \"Cannot compute the square root of a negative number!\"\n"
      ],
      "metadata": {
        "id": "WU4pcbcMrlBL"
      },
      "execution_count": 41,
      "outputs": []
    },
    {
      "cell_type": "code",
      "source": [
        "\n",
        "# Cell 3: Run tests using pytest\n",
        "\n",
        "!pytest --maxfail=1 --disable-warnings -q\n"
      ],
      "metadata": {
        "colab": {
          "base_uri": "https://localhost:8080/"
        },
        "id": "V1Cy6zIkrtEb",
        "outputId": "6726387a-aa40-44c0-b664-e4a1f4e9e75b"
      },
      "execution_count": 43,
      "outputs": [
        {
          "output_type": "stream",
          "name": "stdout",
          "text": [
            "\n",
            "\u001b[33m\u001b[33mno tests ran\u001b[0m\u001b[33m in 0.00s\u001b[0m\u001b[0m\n"
          ]
        }
      ]
    },
    {
      "cell_type": "code",
      "source": [
        "# Cell 4: Run pytest programmatically\n",
        "\n",
        "import pytest\n",
        "\n",
        "# Use pytest to discover and run tests\n",
        "pytest.main([\"-v\"])\n"
      ],
      "metadata": {
        "colab": {
          "base_uri": "https://localhost:8080/"
        },
        "id": "9t5aZm1qsGeu",
        "outputId": "fb62e207-ca89-4185-dbe6-333498450e41"
      },
      "execution_count": 44,
      "outputs": [
        {
          "output_type": "stream",
          "name": "stdout",
          "text": [
            "======================================= test session starts ========================================\n",
            "platform linux -- Python 3.10.12, pytest-7.4.4, pluggy-1.5.0 -- /usr/bin/python3\n",
            "cachedir: .pytest_cache\n",
            "rootdir: /content\n",
            "plugins: anyio-3.7.1, typeguard-4.3.0\n",
            "collecting ... collected 0 items\n",
            "\n",
            "====================================== no tests ran in 0.01s =======================================\n"
          ]
        },
        {
          "output_type": "execute_result",
          "data": {
            "text/plain": [
              "<ExitCode.NO_TESTS_COLLECTED: 5>"
            ]
          },
          "metadata": {},
          "execution_count": 44
        }
      ]
    }
  ]
}